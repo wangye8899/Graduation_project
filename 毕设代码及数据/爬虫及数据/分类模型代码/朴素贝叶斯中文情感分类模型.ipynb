{
 "cells": [
  {
   "cell_type": "code",
   "execution_count": 3,
   "metadata": {},
   "outputs": [],
   "source": [
    "import pandas as pd"
   ]
  },
  {
   "cell_type": "code",
   "execution_count": 4,
   "metadata": {},
   "outputs": [],
   "source": [
    "df = pd.read_csv('../影评训练.csv')"
   ]
  },
  {
   "cell_type": "code",
   "execution_count": 29,
   "metadata": {},
   "outputs": [
    {
     "data": {
      "text/html": [
       "<div>\n",
       "<style scoped>\n",
       "    .dataframe tbody tr th:only-of-type {\n",
       "        vertical-align: middle;\n",
       "    }\n",
       "\n",
       "    .dataframe tbody tr th {\n",
       "        vertical-align: top;\n",
       "    }\n",
       "\n",
       "    .dataframe thead th {\n",
       "        text-align: right;\n",
       "    }\n",
       "</style>\n",
       "<table border=\"1\" class=\"dataframe\">\n",
       "  <thead>\n",
       "    <tr style=\"text-align: right;\">\n",
       "      <th></th>\n",
       "      <th>comment</th>\n",
       "      <th>star</th>\n",
       "    </tr>\n",
       "  </thead>\n",
       "  <tbody>\n",
       "    <tr>\n",
       "      <th>0</th>\n",
       "      <td>敢 保证  辈子 不 病 纯粹 直接 力 常常 感叹  电影 只  电影   看 样  佳...</td>\n",
       "      <td>1</td>\n",
       "    </tr>\n",
       "    <tr>\n",
       "      <th>1</th>\n",
       "      <td>王传君  不  外人 理解  坚持 都   刻   完美 释放  不 关谷 神奇   王传君...</td>\n",
       "      <td>1</td>\n",
       "    </tr>\n",
       "    <tr>\n",
       "      <th>2</th>\n",
       "      <td>不 中国 版 达拉斯 买家 俱乐部  中国  真实 事件 改编  中国 电影  属    ...</td>\n",
       "      <td>1</td>\n",
       "    </tr>\n",
       "    <tr>\n",
       "      <th>3</th>\n",
       "      <td>然 算不上 杰作 放 豆瓣 语境 下  部 时今日 终 拍 出  国产 高分 韩国 电影  ...</td>\n",
       "      <td>1</td>\n",
       "    </tr>\n",
       "    <tr>\n",
       "      <th>4</th>\n",
       "      <td>最大  病 实  穷病 真  感动  整体 都 很 成熟   些许 韩片  影子  演员 表...</td>\n",
       "      <td>1</td>\n",
       "    </tr>\n",
       "  </tbody>\n",
       "</table>\n",
       "</div>"
      ],
      "text/plain": [
       "                                             comment  star\n",
       "0   敢 保证  辈子 不 病 纯粹 直接 力 常常 感叹  电影 只  电影   看 样  佳...     1\n",
       "1  王传君  不  外人 理解  坚持 都   刻   完美 释放  不 关谷 神奇   王传君...     1\n",
       "2   不 中国 版 达拉斯 买家 俱乐部  中国  真实 事件 改编  中国 电影  属    ...     1\n",
       "3  然 算不上 杰作 放 豆瓣 语境 下  部 时今日 终 拍 出  国产 高分 韩国 电影  ...     1\n",
       "4  最大  病 实  穷病 真  感动  整体 都 很 成熟   些许 韩片  影子  演员 表...     1"
      ]
     },
     "execution_count": 29,
     "metadata": {},
     "output_type": "execute_result"
    }
   ],
   "source": [
    "df.head()"
   ]
  },
  {
   "cell_type": "code",
   "execution_count": 30,
   "metadata": {},
   "outputs": [
    {
     "data": {
      "text/plain": [
       "(23644, 2)"
      ]
     },
     "execution_count": 30,
     "metadata": {},
     "output_type": "execute_result"
    }
   ],
   "source": [
    "df.shape"
   ]
  },
  {
   "cell_type": "code",
   "execution_count": 6,
   "metadata": {},
   "outputs": [
    {
     "ename": "KeyError",
     "evalue": "\"['star'] not in index\"",
     "output_type": "error",
     "traceback": [
      "\u001b[0;31m---------------------------------------------------------------------------\u001b[0m",
      "\u001b[0;31mKeyError\u001b[0m                                  Traceback (most recent call last)",
      "\u001b[0;32m<ipython-input-6-4754a306c083>\u001b[0m in \u001b[0;36m<module>\u001b[0;34m()\u001b[0m\n\u001b[0;32m----> 1\u001b[0;31m \u001b[0mx\u001b[0m \u001b[0;34m=\u001b[0m \u001b[0mdf\u001b[0m\u001b[0;34m[\u001b[0m\u001b[0;34m[\u001b[0m\u001b[0;34m'star'\u001b[0m\u001b[0;34m]\u001b[0m\u001b[0;34m]\u001b[0m\u001b[0;34m\u001b[0m\u001b[0m\n\u001b[0m",
      "\u001b[0;32m~/anaconda3/lib/python3.7/site-packages/pandas/core/frame.py\u001b[0m in \u001b[0;36m__getitem__\u001b[0;34m(self, key)\u001b[0m\n\u001b[1;32m   2680\u001b[0m         \u001b[0;32mif\u001b[0m \u001b[0misinstance\u001b[0m\u001b[0;34m(\u001b[0m\u001b[0mkey\u001b[0m\u001b[0;34m,\u001b[0m \u001b[0;34m(\u001b[0m\u001b[0mSeries\u001b[0m\u001b[0;34m,\u001b[0m \u001b[0mnp\u001b[0m\u001b[0;34m.\u001b[0m\u001b[0mndarray\u001b[0m\u001b[0;34m,\u001b[0m \u001b[0mIndex\u001b[0m\u001b[0;34m,\u001b[0m \u001b[0mlist\u001b[0m\u001b[0;34m)\u001b[0m\u001b[0;34m)\u001b[0m\u001b[0;34m:\u001b[0m\u001b[0;34m\u001b[0m\u001b[0m\n\u001b[1;32m   2681\u001b[0m             \u001b[0;31m# either boolean or fancy integer index\u001b[0m\u001b[0;34m\u001b[0m\u001b[0;34m\u001b[0m\u001b[0m\n\u001b[0;32m-> 2682\u001b[0;31m             \u001b[0;32mreturn\u001b[0m \u001b[0mself\u001b[0m\u001b[0;34m.\u001b[0m\u001b[0m_getitem_array\u001b[0m\u001b[0;34m(\u001b[0m\u001b[0mkey\u001b[0m\u001b[0;34m)\u001b[0m\u001b[0;34m\u001b[0m\u001b[0m\n\u001b[0m\u001b[1;32m   2683\u001b[0m         \u001b[0;32melif\u001b[0m \u001b[0misinstance\u001b[0m\u001b[0;34m(\u001b[0m\u001b[0mkey\u001b[0m\u001b[0;34m,\u001b[0m \u001b[0mDataFrame\u001b[0m\u001b[0;34m)\u001b[0m\u001b[0;34m:\u001b[0m\u001b[0;34m\u001b[0m\u001b[0m\n\u001b[1;32m   2684\u001b[0m             \u001b[0;32mreturn\u001b[0m \u001b[0mself\u001b[0m\u001b[0;34m.\u001b[0m\u001b[0m_getitem_frame\u001b[0m\u001b[0;34m(\u001b[0m\u001b[0mkey\u001b[0m\u001b[0;34m)\u001b[0m\u001b[0;34m\u001b[0m\u001b[0m\n",
      "\u001b[0;32m~/anaconda3/lib/python3.7/site-packages/pandas/core/frame.py\u001b[0m in \u001b[0;36m_getitem_array\u001b[0;34m(self, key)\u001b[0m\n\u001b[1;32m   2724\u001b[0m             \u001b[0;32mreturn\u001b[0m \u001b[0mself\u001b[0m\u001b[0;34m.\u001b[0m\u001b[0m_take\u001b[0m\u001b[0;34m(\u001b[0m\u001b[0mindexer\u001b[0m\u001b[0;34m,\u001b[0m \u001b[0maxis\u001b[0m\u001b[0;34m=\u001b[0m\u001b[0;36m0\u001b[0m\u001b[0;34m)\u001b[0m\u001b[0;34m\u001b[0m\u001b[0m\n\u001b[1;32m   2725\u001b[0m         \u001b[0;32melse\u001b[0m\u001b[0;34m:\u001b[0m\u001b[0;34m\u001b[0m\u001b[0m\n\u001b[0;32m-> 2726\u001b[0;31m             \u001b[0mindexer\u001b[0m \u001b[0;34m=\u001b[0m \u001b[0mself\u001b[0m\u001b[0;34m.\u001b[0m\u001b[0mloc\u001b[0m\u001b[0;34m.\u001b[0m\u001b[0m_convert_to_indexer\u001b[0m\u001b[0;34m(\u001b[0m\u001b[0mkey\u001b[0m\u001b[0;34m,\u001b[0m \u001b[0maxis\u001b[0m\u001b[0;34m=\u001b[0m\u001b[0;36m1\u001b[0m\u001b[0;34m)\u001b[0m\u001b[0;34m\u001b[0m\u001b[0m\n\u001b[0m\u001b[1;32m   2727\u001b[0m             \u001b[0;32mreturn\u001b[0m \u001b[0mself\u001b[0m\u001b[0;34m.\u001b[0m\u001b[0m_take\u001b[0m\u001b[0;34m(\u001b[0m\u001b[0mindexer\u001b[0m\u001b[0;34m,\u001b[0m \u001b[0maxis\u001b[0m\u001b[0;34m=\u001b[0m\u001b[0;36m1\u001b[0m\u001b[0;34m)\u001b[0m\u001b[0;34m\u001b[0m\u001b[0m\n\u001b[1;32m   2728\u001b[0m \u001b[0;34m\u001b[0m\u001b[0m\n",
      "\u001b[0;32m~/anaconda3/lib/python3.7/site-packages/pandas/core/indexing.py\u001b[0m in \u001b[0;36m_convert_to_indexer\u001b[0;34m(self, obj, axis, is_setter)\u001b[0m\n\u001b[1;32m   1325\u001b[0m                 \u001b[0;32mif\u001b[0m \u001b[0mmask\u001b[0m\u001b[0;34m.\u001b[0m\u001b[0many\u001b[0m\u001b[0;34m(\u001b[0m\u001b[0;34m)\u001b[0m\u001b[0;34m:\u001b[0m\u001b[0;34m\u001b[0m\u001b[0m\n\u001b[1;32m   1326\u001b[0m                     raise KeyError('{mask} not in index'\n\u001b[0;32m-> 1327\u001b[0;31m                                    .format(mask=objarr[mask]))\n\u001b[0m\u001b[1;32m   1328\u001b[0m \u001b[0;34m\u001b[0m\u001b[0m\n\u001b[1;32m   1329\u001b[0m                 \u001b[0;32mreturn\u001b[0m \u001b[0mcom\u001b[0m\u001b[0;34m.\u001b[0m\u001b[0m_values_from_object\u001b[0m\u001b[0;34m(\u001b[0m\u001b[0mindexer\u001b[0m\u001b[0;34m)\u001b[0m\u001b[0;34m\u001b[0m\u001b[0m\n",
      "\u001b[0;31mKeyError\u001b[0m: \"['star'] not in index\""
     ]
    }
   ],
   "source": [
    "x = df[['star']]"
   ]
  },
  {
   "cell_type": "code",
   "execution_count": 7,
   "metadata": {},
   "outputs": [
    {
     "ename": "NameError",
     "evalue": "name 'x' is not defined",
     "output_type": "error",
     "traceback": [
      "\u001b[0;31m---------------------------------------------------------------------------\u001b[0m",
      "\u001b[0;31mNameError\u001b[0m                                 Traceback (most recent call last)",
      "\u001b[0;32m<ipython-input-7-9f2b259887ef>\u001b[0m in \u001b[0;36m<module>\u001b[0;34m()\u001b[0m\n\u001b[0;32m----> 1\u001b[0;31m \u001b[0mx\u001b[0m\u001b[0;34m.\u001b[0m\u001b[0mshape\u001b[0m\u001b[0;34m\u001b[0m\u001b[0m\n\u001b[0m",
      "\u001b[0;31mNameError\u001b[0m: name 'x' is not defined"
     ]
    }
   ],
   "source": [
    "x.shape"
   ]
  },
  {
   "cell_type": "code",
   "execution_count": 33,
   "metadata": {},
   "outputs": [],
   "source": [
    "y = df[['comment']]"
   ]
  },
  {
   "cell_type": "code",
   "execution_count": 34,
   "metadata": {},
   "outputs": [
    {
     "data": {
      "text/html": [
       "<div>\n",
       "<style scoped>\n",
       "    .dataframe tbody tr th:only-of-type {\n",
       "        vertical-align: middle;\n",
       "    }\n",
       "\n",
       "    .dataframe tbody tr th {\n",
       "        vertical-align: top;\n",
       "    }\n",
       "\n",
       "    .dataframe thead th {\n",
       "        text-align: right;\n",
       "    }\n",
       "</style>\n",
       "<table border=\"1\" class=\"dataframe\">\n",
       "  <thead>\n",
       "    <tr style=\"text-align: right;\">\n",
       "      <th></th>\n",
       "      <th>comment</th>\n",
       "    </tr>\n",
       "  </thead>\n",
       "  <tbody>\n",
       "    <tr>\n",
       "      <th>0</th>\n",
       "      <td>敢 保证  辈子 不 病 纯粹 直接 力 常常 感叹  电影 只  电影   看 样  佳...</td>\n",
       "    </tr>\n",
       "    <tr>\n",
       "      <th>1</th>\n",
       "      <td>王传君  不  外人 理解  坚持 都   刻   完美 释放  不 关谷 神奇   王传君...</td>\n",
       "    </tr>\n",
       "    <tr>\n",
       "      <th>2</th>\n",
       "      <td>不 中国 版 达拉斯 买家 俱乐部  中国  真实 事件 改编  中国 电影  属    ...</td>\n",
       "    </tr>\n",
       "    <tr>\n",
       "      <th>3</th>\n",
       "      <td>然 算不上 杰作 放 豆瓣 语境 下  部 时今日 终 拍 出  国产 高分 韩国 电影  ...</td>\n",
       "    </tr>\n",
       "    <tr>\n",
       "      <th>4</th>\n",
       "      <td>最大  病 实  穷病 真  感动  整体 都 很 成熟   些许 韩片  影子  演员 表...</td>\n",
       "    </tr>\n",
       "    <tr>\n",
       "      <th>5</th>\n",
       "      <td>文 牧野 眼睛 太毒  观众  笑 点 泪点 痛点   牢牢 抓住 徐峥 现 不 拼 演技 ...</td>\n",
       "    </tr>\n",
       "    <tr>\n",
       "      <th>6</th>\n",
       "      <td>小时候 路 家 药店 门口  联 写  只 愿 世间 无 疾病 愁 架上 药染尘</td>\n",
       "    </tr>\n",
       "    <tr>\n",
       "      <th>7</th>\n",
       "      <td>今后 都 会 越越 好  希  天 早点  口罩 成 符号 不 雾 霾  人性  仪式 结尾...</td>\n",
       "    </tr>\n",
       "    <tr>\n",
       "      <th>8</th>\n",
       "      <td>人生 建议  买 零食 吃不下</td>\n",
       "    </tr>\n",
       "    <tr>\n",
       "      <th>9</th>\n",
       "      <td>王传君 终 做   正确  决定 没 去 参演 部 死 妈 电影</td>\n",
       "    </tr>\n",
       "    <tr>\n",
       "      <th>10</th>\n",
       "      <td>举动  会 改变 人  生 酒 领班  爱上  钢舞</td>\n",
       "    </tr>\n",
       "    <tr>\n",
       "      <th>11</th>\n",
       "      <td>炸裂 哭成 狗  观影 体验 上 看  达拉斯 买家 俱乐部 好 间 隔  差不 五 动物 ...</td>\n",
       "    </tr>\n",
       "    <tr>\n",
       "      <th>12</th>\n",
       "      <td>电影  做  好 部 电影 都 做  剩下    时代 不  更好   刚刚 历   时代 ...</td>\n",
       "    </tr>\n",
       "    <tr>\n",
       "      <th>13</th>\n",
       "      <td>句 家 还 没 病人 泪流满面 感叹 生命  穷病 面前 无药 救 感慨 中国 终   属...</td>\n",
       "    </tr>\n",
       "    <tr>\n",
       "      <th>14</th>\n",
       "      <td>特效  真实 人性 特技  上映 成功</td>\n",
       "    </tr>\n",
       "    <tr>\n",
       "      <th>15</th>\n",
       "      <td>想 活下去   什 罪  妆 都 哭 花   主演  演绎 太走心  特  徐峥  王传君...</td>\n",
       "    </tr>\n",
       "    <tr>\n",
       "      <th>16</th>\n",
       "      <td>才 岁 想 活命  什 罪</td>\n",
       "    </tr>\n",
       "    <tr>\n",
       "      <th>17</th>\n",
       "      <td>想 实名 表扬 下 王传君 内 青年 演员 里 竟然    会 演戏  很 卖力  实力...</td>\n",
       "    </tr>\n",
       "    <tr>\n",
       "      <th>18</th>\n",
       "      <td>三星 电影 优缺点 都 很 明显 加 星  很 佩服 创作 戴 脚镣 跳舞 时 挟带  私货...</td>\n",
       "    </tr>\n",
       "    <tr>\n",
       "      <th>19</th>\n",
       "      <td>会 逗  笑 会    哭 王传君 吃火锅 最后 面 徐峥 段   嬉皮笑脸  嘴角 抽搐 ...</td>\n",
       "    </tr>\n",
       "    <tr>\n",
       "      <th>20</th>\n",
       "      <td>反感 类 戴  批判 现实主义 帽子  电影 却 使  大量 讨好 大众  商业片 常 媚...</td>\n",
       "    </tr>\n",
       "    <tr>\n",
       "      <th>21</th>\n",
       "      <td>微妙   谄媚 审查 机制  迎合 市场需求 间 取 平衡 看似 蜻蜓点水   法理  人情...</td>\n",
       "    </tr>\n",
       "    <tr>\n",
       "      <th>22</th>\n",
       "      <td>高压 审查 下变  味儿  作品 整部 片子 里 都  好人  外国 奸商  坏蛋 观众...</td>\n",
       "    </tr>\n",
       "    <tr>\n",
       "      <th>23</th>\n",
       "      <td>吹   陆勇案  好  原型 事 做 底子 却 拍成  超 长春 晚 小品 先  段子 笑...</td>\n",
       "    </tr>\n",
       "    <tr>\n",
       "      <th>24</th>\n",
       "      <td>完全 没 讽刺  意思  觉 做  段 儿带 上海 腔  催泪 快板儿 书 挺 煽   电影...</td>\n",
       "    </tr>\n",
       "    <tr>\n",
       "      <th>25</th>\n",
       "      <td>极 不 舒服  现实 消费  还 恶劣</td>\n",
       "    </tr>\n",
       "    <tr>\n",
       "      <th>26</th>\n",
       "      <td>九分  不 针 部 电影  基 创作     题材 表现  社会 现实意义 大  电影 里...</td>\n",
       "    </tr>\n",
       "    <tr>\n",
       "      <th>27</th>\n",
       "      <td>看见 草坪 上 奔跑  孩子  流下  两行 前后 紧密 相  热泪  行  说 看见  ...</td>\n",
       "    </tr>\n",
       "    <tr>\n",
       "      <th>28</th>\n",
       "      <td>程勇  脸  七月  天 说 变  变 人物 行 逻辑 全没 毛病  最大  逻辑 毛病  ...</td>\n",
       "    </tr>\n",
       "    <tr>\n",
       "      <th>29</th>\n",
       "      <td>导演 直接  剧情 糊   脸上 观感   张 院长  台上 滔滔不绝  介绍 德国 格 列</td>\n",
       "    </tr>\n",
       "    <tr>\n",
       "      <th>...</th>\n",
       "      <td>...</td>\n",
       "    </tr>\n",
       "    <tr>\n",
       "      <th>23614</th>\n",
       "      <td>老派  虚实 戏中戏 手法 前 半 小时 云山雾罩 后面  慢慢 开始 意思  凯文  斯 ...</td>\n",
       "    </tr>\n",
       "    <tr>\n",
       "      <th>23615</th>\n",
       "      <td>不 信仰 上帝   敬畏 上帝</td>\n",
       "    </tr>\n",
       "    <tr>\n",
       "      <th>23616</th>\n",
       "      <td>影片 完全 推翻  观众  惯性 逻辑思维   剧情 复杂  事 拍  戏剧 张力 十足 始...</td>\n",
       "    </tr>\n",
       "    <tr>\n",
       "      <th>23617</th>\n",
       "      <td>全片  倒叙  方式   揭开  桩 刀杀人 惨案  真相 全片 完全 推翻  观众  惯性...</td>\n",
       "    </tr>\n",
       "    <tr>\n",
       "      <th>23618</th>\n",
       "      <td>实 真   好 结尾 拯救   平庸  事</td>\n",
       "    </tr>\n",
       "    <tr>\n",
       "      <th>23619</th>\n",
       "      <td>天衣无缝  谎言 次 精彩  瞒天海</td>\n",
       "    </tr>\n",
       "    <tr>\n",
       "      <th>23620</th>\n",
       "      <td>剧情 很棒    喜欢   反转</td>\n",
       "    </tr>\n",
       "    <tr>\n",
       "      <th>23621</th>\n",
       "      <td>然 已 点 猜  结局  还 觉 很棒</td>\n",
       "    </tr>\n",
       "    <tr>\n",
       "      <th>23622</th>\n",
       "      <td>不 信仰 上帝  敬畏 上帝</td>\n",
       "    </tr>\n",
       "    <tr>\n",
       "      <th>23623</th>\n",
       "      <td>算 敢天下先 部 电影  美妙 处    合理性 苛刻  只 存  虚构 中</td>\n",
       "    </tr>\n",
       "    <tr>\n",
       "      <th>23624</th>\n",
       "      <td>超赞  影片 剧情 很 瘾</td>\n",
       "    </tr>\n",
       "    <tr>\n",
       "      <th>23625</th>\n",
       "      <td>骗局 毫无意义</td>\n",
       "    </tr>\n",
       "    <tr>\n",
       "      <th>23626</th>\n",
       "      <td>未 感觉  分钟 竟然  长 整部 影片 看 完后 只 记住  凯撒   人 名 果   不...</td>\n",
       "    </tr>\n",
       "    <tr>\n",
       "      <th>23627</th>\n",
       "      <td>七宗罪  幕 後    人家 腦袋  這部 電影  導演 靈光 萬倍 不止 知道   推 前...</td>\n",
       "    </tr>\n",
       "    <tr>\n",
       "      <th>23628</th>\n",
       "      <td>跛子  干 圈 底 图    缺乏 根  立足点 外   开始   不断 提示 跛子  恺撒...</td>\n",
       "    </tr>\n",
       "    <tr>\n",
       "      <th>23629</th>\n",
       "      <td>非常 嫌疑犯</td>\n",
       "    </tr>\n",
       "    <tr>\n",
       "      <th>23630</th>\n",
       "      <td>碎块 支零 憋闷 冗长  后台 搜罗 五人   上 货船 干 票 杀人越货 已  无 甚 紧...</td>\n",
       "    </tr>\n",
       "    <tr>\n",
       "      <th>23631</th>\n",
       "      <td>看  分钟 平淡无奇 看  影评  无聊</td>\n",
       "    </tr>\n",
       "    <tr>\n",
       "      <th>23632</th>\n",
       "      <td>看 最装  片子 导演 简直   侮辱 观众  智商</td>\n",
       "    </tr>\n",
       "    <tr>\n",
       "      <th>23633</th>\n",
       "      <td>年  类型 片 许 很少 见 许 认真 看 完会 不 样 看   小时 后  缺乏 继续 ...</td>\n",
       "    </tr>\n",
       "    <tr>\n",
       "      <th>23634</th>\n",
       "      <td>人 说 结尾 会 很 震撼   前面  剧情 铺垫 出 惜  盘 翻译 太 差</td>\n",
       "    </tr>\n",
       "    <tr>\n",
       "      <th>23635</th>\n",
       "      <td>人  智商  想法 都    类似  上帝 般 存  聪明人  计划 中  片子 程 ...</td>\n",
       "    </tr>\n",
       "    <tr>\n",
       "      <th>23636</th>\n",
       "      <td>看  不下 三遍 还 很 沉闷</td>\n",
       "    </tr>\n",
       "    <tr>\n",
       "      <th>23637</th>\n",
       "      <td>好 口碑 完全 只  影迷 圈中 获  没 最后  结尾  无疑  部 冗长 无聊  电影 ...</td>\n",
       "    </tr>\n",
       "    <tr>\n",
       "      <th>23638</th>\n",
       "      <td>事 讲 絮絮叨叨 逻辑 不畅 众 演员 毫无 存 感 说话  大 耍 心计 耍 演技 耍 ...</td>\n",
       "    </tr>\n",
       "    <tr>\n",
       "      <th>23639</th>\n",
       "      <td>整部 电影 导演  营造 出   揪  观众  领子 问  想 不想 知道 真相  底 想 ...</td>\n",
       "    </tr>\n",
       "    <tr>\n",
       "      <th>23640</th>\n",
       "      <td>然 很棒  演技 很 出意料  结局 不  觉 不 好看  不</td>\n",
       "    </tr>\n",
       "    <tr>\n",
       "      <th>23641</th>\n",
       "      <td>演技 不错</td>\n",
       "    </tr>\n",
       "    <tr>\n",
       "      <th>23642</th>\n",
       "      <td>慕名  看 觉 没 想象 中好 不 凶手  房间 编 事  桥段  年  蛮 新颖  感觉 ...</td>\n",
       "    </tr>\n",
       "    <tr>\n",
       "      <th>23643</th>\n",
       "      <td>小林 不 瞎编    最后  跑 出  司机  去  娘 蛋</td>\n",
       "    </tr>\n",
       "  </tbody>\n",
       "</table>\n",
       "<p>23644 rows × 1 columns</p>\n",
       "</div>"
      ],
      "text/plain": [
       "                                                 comment\n",
       "0       敢 保证  辈子 不 病 纯粹 直接 力 常常 感叹  电影 只  电影   看 样  佳...\n",
       "1      王传君  不  外人 理解  坚持 都   刻   完美 释放  不 关谷 神奇   王传君...\n",
       "2       不 中国 版 达拉斯 买家 俱乐部  中国  真实 事件 改编  中国 电影  属    ...\n",
       "3      然 算不上 杰作 放 豆瓣 语境 下  部 时今日 终 拍 出  国产 高分 韩国 电影  ...\n",
       "4      最大  病 实  穷病 真  感动  整体 都 很 成熟   些许 韩片  影子  演员 表...\n",
       "5      文 牧野 眼睛 太毒  观众  笑 点 泪点 痛点   牢牢 抓住 徐峥 现 不 拼 演技 ...\n",
       "6               小时候 路 家 药店 门口  联 写  只 愿 世间 无 疾病 愁 架上 药染尘\n",
       "7      今后 都 会 越越 好  希  天 早点  口罩 成 符号 不 雾 霾  人性  仪式 结尾...\n",
       "8                                       人生 建议  买 零食 吃不下 \n",
       "9                       王传君 终 做   正确  决定 没 去 参演 部 死 妈 电影\n",
       "10                            举动  会 改变 人  生 酒 领班  爱上  钢舞\n",
       "11     炸裂 哭成 狗  观影 体验 上 看  达拉斯 买家 俱乐部 好 间 隔  差不 五 动物 ...\n",
       "12     电影  做  好 部 电影 都 做  剩下    时代 不  更好   刚刚 历   时代 ...\n",
       "13      句 家 还 没 病人 泪流满面 感叹 生命  穷病 面前 无药 救 感慨 中国 终   属...\n",
       "14                                   特效  真实 人性 特技  上映 成功\n",
       "15      想 活下去   什 罪  妆 都 哭 花   主演  演绎 太走心  特  徐峥  王传君...\n",
       "16                                         才 岁 想 活命  什 罪\n",
       "17       想 实名 表扬 下 王传君 内 青年 演员 里 竟然    会 演戏  很 卖力  实力...\n",
       "18     三星 电影 优缺点 都 很 明显 加 星  很 佩服 创作 戴 脚镣 跳舞 时 挟带  私货...\n",
       "19     会 逗  笑 会    哭 王传君 吃火锅 最后 面 徐峥 段   嬉皮笑脸  嘴角 抽搐 ...\n",
       "20      反感 类 戴  批判 现实主义 帽子  电影 却 使  大量 讨好 大众  商业片 常 媚...\n",
       "21     微妙   谄媚 审查 机制  迎合 市场需求 间 取 平衡 看似 蜻蜓点水   法理  人情...\n",
       "22       高压 审查 下变  味儿  作品 整部 片子 里 都  好人  外国 奸商  坏蛋 观众...\n",
       "23      吹   陆勇案  好  原型 事 做 底子 却 拍成  超 长春 晚 小品 先  段子 笑...\n",
       "24     完全 没 讽刺  意思  觉 做  段 儿带 上海 腔  催泪 快板儿 书 挺 煽   电影...\n",
       "25                                   极 不 舒服  现实 消费  还 恶劣\n",
       "26      九分  不 针 部 电影  基 创作     题材 表现  社会 现实意义 大  电影 里...\n",
       "27      看见 草坪 上 奔跑  孩子  流下  两行 前后 紧密 相  热泪  行  说 看见  ...\n",
       "28     程勇  脸  七月  天 说 变  变 人物 行 逻辑 全没 毛病  最大  逻辑 毛病  ...\n",
       "29        导演 直接  剧情 糊   脸上 观感   张 院长  台上 滔滔不绝  介绍 德国 格 列\n",
       "...                                                  ...\n",
       "23614  老派  虚实 戏中戏 手法 前 半 小时 云山雾罩 后面  慢慢 开始 意思  凯文  斯 ...\n",
       "23615                                    不 信仰 上帝   敬畏 上帝\n",
       "23616  影片 完全 推翻  观众  惯性 逻辑思维   剧情 复杂  事 拍  戏剧 张力 十足 始...\n",
       "23617  全片  倒叙  方式   揭开  桩 刀杀人 惨案  真相 全片 完全 推翻  观众  惯性...\n",
       "23618                              实 真   好 结尾 拯救   平庸  事\n",
       "23619                                 天衣无缝  谎言 次 精彩  瞒天海\n",
       "23620                                  剧情 很棒    喜欢   反转 \n",
       "23621                                然 已 点 猜  结局  还 觉 很棒\n",
       "23622                                     不 信仰 上帝  敬畏 上帝\n",
       "23623             算 敢天下先 部 电影  美妙 处    合理性 苛刻  只 存  虚构 中\n",
       "23624                                      超赞  影片 剧情 很 瘾\n",
       "23625                                            骗局 毫无意义\n",
       "23626  未 感觉  分钟 竟然  长 整部 影片 看 完后 只 记住  凯撒   人 名 果   不...\n",
       "23627  七宗罪  幕 後    人家 腦袋  這部 電影  導演 靈光 萬倍 不止 知道   推 前...\n",
       "23628  跛子  干 圈 底 图    缺乏 根  立足点 外   开始   不断 提示 跛子  恺撒...\n",
       "23629                                             非常 嫌疑犯\n",
       "23630  碎块 支零 憋闷 冗长  后台 搜罗 五人   上 货船 干 票 杀人越货 已  无 甚 紧...\n",
       "23631                               看  分钟 平淡无奇 看  影评  无聊\n",
       "23632                         看 最装  片子 导演 简直   侮辱 观众  智商\n",
       "23633   年  类型 片 许 很少 见 许 认真 看 完会 不 样 看   小时 后  缺乏 继续 ...\n",
       "23634            人 说 结尾 会 很 震撼   前面  剧情 铺垫 出 惜  盘 翻译 太 差\n",
       "23635     人  智商  想法 都    类似  上帝 般 存  聪明人  计划 中  片子 程 ...\n",
       "23636                                    看  不下 三遍 还 很 沉闷\n",
       "23637  好 口碑 完全 只  影迷 圈中 获  没 最后  结尾  无疑  部 冗长 无聊  电影 ...\n",
       "23638   事 讲 絮絮叨叨 逻辑 不畅 众 演员 毫无 存 感 说话  大 耍 心计 耍 演技 耍 ...\n",
       "23639  整部 电影 导演  营造 出   揪  观众  领子 问  想 不想 知道 真相  底 想 ...\n",
       "23640                然 很棒  演技 很 出意料  结局 不  觉 不 好看  不    \n",
       "23641                                              演技 不错\n",
       "23642  慕名  看 觉 没 想象 中好 不 凶手  房间 编 事  桥段  年  蛮 新颖  感觉 ...\n",
       "23643                    小林 不 瞎编    最后  跑 出  司机  去  娘 蛋 \n",
       "\n",
       "[23644 rows x 1 columns]"
      ]
     },
     "execution_count": 34,
     "metadata": {},
     "output_type": "execute_result"
    }
   ],
   "source": [
    "y"
   ]
  },
  {
   "cell_type": "code",
   "execution_count": 35,
   "metadata": {},
   "outputs": [
    {
     "data": {
      "text/plain": [
       "(23644, 1)"
      ]
     },
     "execution_count": 35,
     "metadata": {},
     "output_type": "execute_result"
    }
   ],
   "source": [
    "x.shape"
   ]
  },
  {
   "cell_type": "code",
   "execution_count": 36,
   "metadata": {},
   "outputs": [
    {
     "data": {
      "text/plain": [
       "(23644, 1)"
      ]
     },
     "execution_count": 36,
     "metadata": {},
     "output_type": "execute_result"
    }
   ],
   "source": [
    "y.shape"
   ]
  },
  {
   "cell_type": "code",
   "execution_count": 38,
   "metadata": {},
   "outputs": [],
   "source": [
    "x=df.star"
   ]
  },
  {
   "cell_type": "code",
   "execution_count": 39,
   "metadata": {},
   "outputs": [
    {
     "data": {
      "text/plain": [
       "(23644,)"
      ]
     },
     "execution_count": 39,
     "metadata": {},
     "output_type": "execute_result"
    }
   ],
   "source": [
    "x.shape"
   ]
  },
  {
   "cell_type": "code",
   "execution_count": 41,
   "metadata": {},
   "outputs": [],
   "source": [
    "x=df[['comment']]"
   ]
  },
  {
   "cell_type": "code",
   "execution_count": 42,
   "metadata": {},
   "outputs": [],
   "source": [
    "y = df.star"
   ]
  },
  {
   "cell_type": "code",
   "execution_count": 44,
   "metadata": {},
   "outputs": [
    {
     "data": {
      "text/html": [
       "<div>\n",
       "<style scoped>\n",
       "    .dataframe tbody tr th:only-of-type {\n",
       "        vertical-align: middle;\n",
       "    }\n",
       "\n",
       "    .dataframe tbody tr th {\n",
       "        vertical-align: top;\n",
       "    }\n",
       "\n",
       "    .dataframe thead th {\n",
       "        text-align: right;\n",
       "    }\n",
       "</style>\n",
       "<table border=\"1\" class=\"dataframe\">\n",
       "  <thead>\n",
       "    <tr style=\"text-align: right;\">\n",
       "      <th></th>\n",
       "      <th>comment</th>\n",
       "    </tr>\n",
       "  </thead>\n",
       "  <tbody>\n",
       "    <tr>\n",
       "      <th>0</th>\n",
       "      <td>敢 保证  辈子 不 病 纯粹 直接 力 常常 感叹  电影 只  电影   看 样  佳...</td>\n",
       "    </tr>\n",
       "    <tr>\n",
       "      <th>1</th>\n",
       "      <td>王传君  不  外人 理解  坚持 都   刻   完美 释放  不 关谷 神奇   王传君...</td>\n",
       "    </tr>\n",
       "    <tr>\n",
       "      <th>2</th>\n",
       "      <td>不 中国 版 达拉斯 买家 俱乐部  中国  真实 事件 改编  中国 电影  属    ...</td>\n",
       "    </tr>\n",
       "    <tr>\n",
       "      <th>3</th>\n",
       "      <td>然 算不上 杰作 放 豆瓣 语境 下  部 时今日 终 拍 出  国产 高分 韩国 电影  ...</td>\n",
       "    </tr>\n",
       "    <tr>\n",
       "      <th>4</th>\n",
       "      <td>最大  病 实  穷病 真  感动  整体 都 很 成熟   些许 韩片  影子  演员 表...</td>\n",
       "    </tr>\n",
       "  </tbody>\n",
       "</table>\n",
       "</div>"
      ],
      "text/plain": [
       "                                             comment\n",
       "0   敢 保证  辈子 不 病 纯粹 直接 力 常常 感叹  电影 只  电影   看 样  佳...\n",
       "1  王传君  不  外人 理解  坚持 都   刻   完美 释放  不 关谷 神奇   王传君...\n",
       "2   不 中国 版 达拉斯 买家 俱乐部  中国  真实 事件 改编  中国 电影  属    ...\n",
       "3  然 算不上 杰作 放 豆瓣 语境 下  部 时今日 终 拍 出  国产 高分 韩国 电影  ...\n",
       "4  最大  病 实  穷病 真  感动  整体 都 很 成熟   些许 韩片  影子  演员 表..."
      ]
     },
     "execution_count": 44,
     "metadata": {},
     "output_type": "execute_result"
    }
   ],
   "source": [
    "x.head()"
   ]
  },
  {
   "cell_type": "code",
   "execution_count": 5,
   "metadata": {},
   "outputs": [
    {
     "ename": "NameError",
     "evalue": "name 'x' is not defined",
     "output_type": "error",
     "traceback": [
      "\u001b[0;31m---------------------------------------------------------------------------\u001b[0m",
      "\u001b[0;31mNameError\u001b[0m                                 Traceback (most recent call last)",
      "\u001b[0;32m<ipython-input-5-9cb5980b27de>\u001b[0m in \u001b[0;36m<module>\u001b[0;34m()\u001b[0m\n\u001b[1;32m      1\u001b[0m \u001b[0;32mfrom\u001b[0m \u001b[0msklearn\u001b[0m\u001b[0;34m.\u001b[0m\u001b[0mmodel_selection\u001b[0m \u001b[0;32mimport\u001b[0m \u001b[0mtrain_test_split\u001b[0m\u001b[0;34m\u001b[0m\u001b[0m\n\u001b[0;32m----> 2\u001b[0;31m \u001b[0mX_train\u001b[0m\u001b[0;34m,\u001b[0m \u001b[0mX_test\u001b[0m\u001b[0;34m,\u001b[0m \u001b[0my_train\u001b[0m\u001b[0;34m,\u001b[0m \u001b[0my_test\u001b[0m \u001b[0;34m=\u001b[0m \u001b[0mtrain_test_split\u001b[0m\u001b[0;34m(\u001b[0m\u001b[0mx\u001b[0m\u001b[0;34m,\u001b[0m \u001b[0my\u001b[0m\u001b[0;34m,\u001b[0m \u001b[0mrandom_state\u001b[0m\u001b[0;34m=\u001b[0m\u001b[0;36m1\u001b[0m\u001b[0;34m)\u001b[0m\u001b[0;34m\u001b[0m\u001b[0m\n\u001b[0m",
      "\u001b[0;31mNameError\u001b[0m: name 'x' is not defined"
     ]
    }
   ],
   "source": [
    "from sklearn.model_selection import train_test_split\n",
    "X_train, X_test, y_train, y_test = train_test_split(x, y, random_state=1)"
   ]
  },
  {
   "cell_type": "code",
   "execution_count": null,
   "metadata": {},
   "outputs": [],
   "source": []
  },
  {
   "cell_type": "code",
   "execution_count": null,
   "metadata": {},
   "outputs": [],
   "source": []
  },
  {
   "cell_type": "code",
   "execution_count": 51,
   "metadata": {},
   "outputs": [],
   "source": [
    "from sklearn.feature_extraction.text import CountVectorizer\n",
    "vect = CountVectorizer()"
   ]
  },
  {
   "cell_type": "code",
   "execution_count": 1,
   "metadata": {},
   "outputs": [
    {
     "ename": "NameError",
     "evalue": "name 'pd' is not defined",
     "output_type": "error",
     "traceback": [
      "\u001b[0;31m---------------------------------------------------------------------------\u001b[0m",
      "\u001b[0;31mNameError\u001b[0m                                 Traceback (most recent call last)",
      "\u001b[0;32m<ipython-input-1-fe783a85f1e4>\u001b[0m in \u001b[0;36m<module>\u001b[0;34m()\u001b[0m\n\u001b[0;32m----> 1\u001b[0;31m \u001b[0mterm_matrix\u001b[0m \u001b[0;34m=\u001b[0m \u001b[0mpd\u001b[0m\u001b[0;34m.\u001b[0m\u001b[0mDataFrame\u001b[0m\u001b[0;34m(\u001b[0m\u001b[0mvect\u001b[0m\u001b[0;34m.\u001b[0m\u001b[0mfit_transform\u001b[0m\u001b[0;34m(\u001b[0m\u001b[0mX_train\u001b[0m\u001b[0;34m.\u001b[0m\u001b[0mcomment\u001b[0m\u001b[0;34m)\u001b[0m\u001b[0;34m.\u001b[0m\u001b[0mtoarray\u001b[0m\u001b[0;34m(\u001b[0m\u001b[0;34m)\u001b[0m\u001b[0;34m,\u001b[0m \u001b[0mcolumns\u001b[0m\u001b[0;34m=\u001b[0m\u001b[0mvect\u001b[0m\u001b[0;34m.\u001b[0m\u001b[0mget_feature_names\u001b[0m\u001b[0;34m(\u001b[0m\u001b[0;34m)\u001b[0m\u001b[0;34m)\u001b[0m\u001b[0;34m\u001b[0m\u001b[0m\n\u001b[0m",
      "\u001b[0;31mNameError\u001b[0m: name 'pd' is not defined"
     ]
    }
   ],
   "source": [
    "term_matrix = pd.DataFrame(vect.fit_transform(X_train.comment).toarray(), columns=vect.get_feature_names())"
   ]
  },
  {
   "cell_type": "code",
   "execution_count": 54,
   "metadata": {},
   "outputs": [],
   "source": [
    "max_df = 0.8"
   ]
  },
  {
   "cell_type": "code",
   "execution_count": 55,
   "metadata": {},
   "outputs": [],
   "source": [
    "min_df = 3"
   ]
  },
  {
   "cell_type": "code",
   "execution_count": 56,
   "metadata": {},
   "outputs": [],
   "source": [
    "vect = CountVectorizer(max_df = max_df,\n",
    "                       min_df = min_df,\n",
    "                       token_pattern=u'(?u)\\\\b[^\\\\d\\\\W]\\\\w+\\\\b',\n",
    "                      )"
   ]
  },
  {
   "cell_type": "code",
   "execution_count": 57,
   "metadata": {},
   "outputs": [],
   "source": [
    "term_matrix = pd.DataFrame(vect.fit_transform(X_train.comment).toarray(), columns=vect.get_feature_names())"
   ]
  },
  {
   "cell_type": "code",
   "execution_count": 58,
   "metadata": {},
   "outputs": [
    {
     "data": {
      "text/html": [
       "<div>\n",
       "<style scoped>\n",
       "    .dataframe tbody tr th:only-of-type {\n",
       "        vertical-align: middle;\n",
       "    }\n",
       "\n",
       "    .dataframe tbody tr th {\n",
       "        vertical-align: top;\n",
       "    }\n",
       "\n",
       "    .dataframe thead th {\n",
       "        text-align: right;\n",
       "    }\n",
       "</style>\n",
       "<table border=\"1\" class=\"dataframe\">\n",
       "  <thead>\n",
       "    <tr style=\"text-align: right;\">\n",
       "      <th></th>\n",
       "      <th>丁丁</th>\n",
       "      <th>丁晟</th>\n",
       "      <th>丁点</th>\n",
       "      <th>丁青</th>\n",
       "      <th>七分</th>\n",
       "      <th>七匹狼</th>\n",
       "      <th>七十年代</th>\n",
       "      <th>七宗罪</th>\n",
       "      <th>七年</th>\n",
       "      <th>七日</th>\n",
       "      <th>...</th>\n",
       "      <th>齐头进</th>\n",
       "      <th>齐景轩</th>\n",
       "      <th>齐铭</th>\n",
       "      <th>龌龊</th>\n",
       "      <th>龙去脉</th>\n",
       "      <th>龙套</th>\n",
       "      <th>龙宫</th>\n",
       "      <th>龙标</th>\n",
       "      <th>龙珠</th>\n",
       "      <th>龙虾</th>\n",
       "    </tr>\n",
       "  </thead>\n",
       "  <tbody>\n",
       "    <tr>\n",
       "      <th>0</th>\n",
       "      <td>0</td>\n",
       "      <td>0</td>\n",
       "      <td>0</td>\n",
       "      <td>0</td>\n",
       "      <td>0</td>\n",
       "      <td>0</td>\n",
       "      <td>0</td>\n",
       "      <td>0</td>\n",
       "      <td>0</td>\n",
       "      <td>0</td>\n",
       "      <td>...</td>\n",
       "      <td>0</td>\n",
       "      <td>0</td>\n",
       "      <td>0</td>\n",
       "      <td>0</td>\n",
       "      <td>0</td>\n",
       "      <td>0</td>\n",
       "      <td>0</td>\n",
       "      <td>0</td>\n",
       "      <td>0</td>\n",
       "      <td>0</td>\n",
       "    </tr>\n",
       "    <tr>\n",
       "      <th>1</th>\n",
       "      <td>0</td>\n",
       "      <td>0</td>\n",
       "      <td>0</td>\n",
       "      <td>0</td>\n",
       "      <td>0</td>\n",
       "      <td>0</td>\n",
       "      <td>0</td>\n",
       "      <td>0</td>\n",
       "      <td>0</td>\n",
       "      <td>0</td>\n",
       "      <td>...</td>\n",
       "      <td>0</td>\n",
       "      <td>0</td>\n",
       "      <td>0</td>\n",
       "      <td>0</td>\n",
       "      <td>0</td>\n",
       "      <td>0</td>\n",
       "      <td>0</td>\n",
       "      <td>0</td>\n",
       "      <td>0</td>\n",
       "      <td>0</td>\n",
       "    </tr>\n",
       "    <tr>\n",
       "      <th>2</th>\n",
       "      <td>0</td>\n",
       "      <td>0</td>\n",
       "      <td>0</td>\n",
       "      <td>0</td>\n",
       "      <td>0</td>\n",
       "      <td>0</td>\n",
       "      <td>0</td>\n",
       "      <td>0</td>\n",
       "      <td>0</td>\n",
       "      <td>0</td>\n",
       "      <td>...</td>\n",
       "      <td>0</td>\n",
       "      <td>0</td>\n",
       "      <td>0</td>\n",
       "      <td>0</td>\n",
       "      <td>0</td>\n",
       "      <td>0</td>\n",
       "      <td>0</td>\n",
       "      <td>0</td>\n",
       "      <td>0</td>\n",
       "      <td>0</td>\n",
       "    </tr>\n",
       "    <tr>\n",
       "      <th>3</th>\n",
       "      <td>0</td>\n",
       "      <td>0</td>\n",
       "      <td>0</td>\n",
       "      <td>0</td>\n",
       "      <td>0</td>\n",
       "      <td>0</td>\n",
       "      <td>0</td>\n",
       "      <td>0</td>\n",
       "      <td>0</td>\n",
       "      <td>0</td>\n",
       "      <td>...</td>\n",
       "      <td>0</td>\n",
       "      <td>0</td>\n",
       "      <td>0</td>\n",
       "      <td>0</td>\n",
       "      <td>0</td>\n",
       "      <td>0</td>\n",
       "      <td>0</td>\n",
       "      <td>0</td>\n",
       "      <td>0</td>\n",
       "      <td>0</td>\n",
       "    </tr>\n",
       "    <tr>\n",
       "      <th>4</th>\n",
       "      <td>0</td>\n",
       "      <td>0</td>\n",
       "      <td>0</td>\n",
       "      <td>0</td>\n",
       "      <td>0</td>\n",
       "      <td>0</td>\n",
       "      <td>0</td>\n",
       "      <td>0</td>\n",
       "      <td>0</td>\n",
       "      <td>0</td>\n",
       "      <td>...</td>\n",
       "      <td>0</td>\n",
       "      <td>0</td>\n",
       "      <td>0</td>\n",
       "      <td>0</td>\n",
       "      <td>0</td>\n",
       "      <td>0</td>\n",
       "      <td>0</td>\n",
       "      <td>0</td>\n",
       "      <td>0</td>\n",
       "      <td>0</td>\n",
       "    </tr>\n",
       "  </tbody>\n",
       "</table>\n",
       "<p>5 rows × 11825 columns</p>\n",
       "</div>"
      ],
      "text/plain": [
       "   丁丁  丁晟  丁点  丁青  七分  七匹狼  七十年代  七宗罪  七年  七日 ...  齐头进  齐景轩  齐铭  龌龊  龙去脉  龙套  \\\n",
       "0   0   0   0   0   0    0     0    0   0   0 ...    0    0   0   0    0   0   \n",
       "1   0   0   0   0   0    0     0    0   0   0 ...    0    0   0   0    0   0   \n",
       "2   0   0   0   0   0    0     0    0   0   0 ...    0    0   0   0    0   0   \n",
       "3   0   0   0   0   0    0     0    0   0   0 ...    0    0   0   0    0   0   \n",
       "4   0   0   0   0   0    0     0    0   0   0 ...    0    0   0   0    0   0   \n",
       "\n",
       "   龙宫  龙标  龙珠  龙虾  \n",
       "0   0   0   0   0  \n",
       "1   0   0   0   0  \n",
       "2   0   0   0   0  \n",
       "3   0   0   0   0  \n",
       "4   0   0   0   0  \n",
       "\n",
       "[5 rows x 11825 columns]"
      ]
     },
     "execution_count": 58,
     "metadata": {},
     "output_type": "execute_result"
    }
   ],
   "source": [
    "term_matrix.head()"
   ]
  },
  {
   "cell_type": "code",
   "execution_count": 59,
   "metadata": {},
   "outputs": [],
   "source": [
    "from sklearn.naive_bayes import MultinomialNB\n",
    "nb = MultinomialNB()"
   ]
  },
  {
   "cell_type": "code",
   "execution_count": 62,
   "metadata": {},
   "outputs": [],
   "source": [
    "from sklearn.pipeline import make_pipeline\n",
    "pipe = make_pipeline(vect, nb)"
   ]
  },
  {
   "cell_type": "code",
   "execution_count": 64,
   "metadata": {},
   "outputs": [
    {
     "data": {
      "text/plain": [
       "0.7411601852261945"
      ]
     },
     "execution_count": 64,
     "metadata": {},
     "output_type": "execute_result"
    }
   ],
   "source": [
    "from sklearn.cross_validation import cross_val_score\n",
    "cross_val_score(pipe, X_train.comment, y_train, cv=5, scoring='accuracy').mean()"
   ]
  },
  {
   "cell_type": "code",
   "execution_count": 65,
   "metadata": {},
   "outputs": [
    {
     "data": {
      "text/plain": [
       "Pipeline(memory=None,\n",
       "     steps=[('countvectorizer', CountVectorizer(analyzer='word', binary=False, decode_error='strict',\n",
       "        dtype=<class 'numpy.int64'>, encoding='utf-8', input='content',\n",
       "        lowercase=True, max_df=0.8, max_features=None, min_df=3,\n",
       "        ngram_range=(1, 1), preprocessor=None, stop_words=None,\n",
       "        strip_accents=None, token_pattern='(?u)\\\\b[^\\\\d\\\\W]\\\\w+\\\\b',\n",
       "        tokenizer=None, vocabulary=None)), ('multinomialnb', MultinomialNB(alpha=1.0, class_prior=None, fit_prior=True))])"
      ]
     },
     "execution_count": 65,
     "metadata": {},
     "output_type": "execute_result"
    }
   ],
   "source": [
    "pipe.fit(X_train.comment, y_train)"
   ]
  },
  {
   "cell_type": "code",
   "execution_count": 67,
   "metadata": {},
   "outputs": [],
   "source": [
    "y_pred = pipe.predict(X_test.comment)"
   ]
  },
  {
   "cell_type": "code",
   "execution_count": 68,
   "metadata": {},
   "outputs": [],
   "source": [
    "from sklearn import metrics"
   ]
  },
  {
   "cell_type": "code",
   "execution_count": 69,
   "metadata": {},
   "outputs": [
    {
     "data": {
      "text/plain": [
       "0.7533412282185755"
      ]
     },
     "execution_count": 69,
     "metadata": {},
     "output_type": "execute_result"
    }
   ],
   "source": [
    "metrics.accuracy_score(y_test, y_pred)"
   ]
  },
  {
   "cell_type": "code",
   "execution_count": 70,
   "metadata": {},
   "outputs": [
    {
     "ename": "ModuleNotFoundError",
     "evalue": "No module named 'snownlp'",
     "output_type": "error",
     "traceback": [
      "\u001b[0;31m---------------------------------------------------------------------------\u001b[0m",
      "\u001b[0;31mModuleNotFoundError\u001b[0m                       Traceback (most recent call last)",
      "\u001b[0;32m<ipython-input-70-b0346bfd5414>\u001b[0m in \u001b[0;36m<module>\u001b[0;34m()\u001b[0m\n\u001b[0;32m----> 1\u001b[0;31m \u001b[0;32mfrom\u001b[0m \u001b[0msnownlp\u001b[0m \u001b[0;32mimport\u001b[0m \u001b[0mSnowNLP\u001b[0m\u001b[0;34m\u001b[0m\u001b[0m\n\u001b[0m\u001b[1;32m      2\u001b[0m \u001b[0;32mdef\u001b[0m \u001b[0mget_sentiment\u001b[0m\u001b[0;34m(\u001b[0m\u001b[0mtext\u001b[0m\u001b[0;34m)\u001b[0m\u001b[0;34m:\u001b[0m\u001b[0;34m\u001b[0m\u001b[0m\n\u001b[1;32m      3\u001b[0m     \u001b[0;32mreturn\u001b[0m \u001b[0mSnowNLP\u001b[0m\u001b[0;34m(\u001b[0m\u001b[0mtext\u001b[0m\u001b[0;34m)\u001b[0m\u001b[0;34m.\u001b[0m\u001b[0msentiments\u001b[0m\u001b[0;34m\u001b[0m\u001b[0m\n",
      "\u001b[0;31mModuleNotFoundError\u001b[0m: No module named 'snownlp'"
     ]
    }
   ],
   "source": [
    "from snownlp import SnowNLP\n",
    "def get_sentiment(text):\n",
    "    return SnowNLP(text).sentiments"
   ]
  },
  {
   "cell_type": "code",
   "execution_count": null,
   "metadata": {},
   "outputs": [],
   "source": []
  }
 ],
 "metadata": {
  "kernelspec": {
   "display_name": "Python 3",
   "language": "python",
   "name": "python3"
  },
  "language_info": {
   "codemirror_mode": {
    "name": "ipython",
    "version": 3
   },
   "file_extension": ".py",
   "mimetype": "text/x-python",
   "name": "python",
   "nbconvert_exporter": "python",
   "pygments_lexer": "ipython3",
   "version": "3.7.0"
  }
 },
 "nbformat": 4,
 "nbformat_minor": 2
}
